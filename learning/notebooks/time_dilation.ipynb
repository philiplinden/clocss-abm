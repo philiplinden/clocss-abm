{
 "cells": [
  {
   "cell_type": "markdown",
   "metadata": {},
   "source": [
    "# Time Dilation by Example\n",
    "Let's apply our knowledge of Special Relativity (SR) and General Relativity (GR) to predict the phenomenon of time dilation.\n",
    "\n",
    "Special Relativity, which describes spacetime far from a significant gravity field, explains how a stationary observer perceives time passing slower for a moving observer when the relative velocity between them is very large.\n",
    "\n",
    "General Relativity, which deals with gravity, explains how time slows down in proximity to a large gravitational acceleration.\n",
    "\n",
    "The [wikipedia page for time dilation](https://en.wikipedia.org/wiki/Time_dilation) provides a derivation of these effects and a handy plot showing time dilation in Earth orbit. Let's try to recreate it.\n",
    "\n",
    "![time dilation plot](./Time_Dilation_vs_Orbital_Height.png)"
   ]
  },
  {
   "cell_type": "markdown",
   "metadata": {},
   "source": [
    "We'll use Python because it's quick and perfect for playing around like this.\n",
    "\n",
    "For math and vectors, we'll use good ol' numpy.\n",
    "\n",
    "For universal constants and tracking high-precision quantities, I suggest using [Nyx](https://nyxspace.com/nyxspace/showcase/). It can do a lot more than we're using it for and it is good enough to plan a trajectory around the Moon, so it should be good enough for us.\n",
    "\n",
    "Nyx depends on another package, [Hifitime](https://nyxspace.com/hifitime/intro/), which is designed to keep time with nanosecond precision across a 65k year span for exactly this type of use case. Hifitime is available through Nyx via the `time` module."
   ]
  },
  {
   "cell_type": "code",
   "execution_count": 1,
   "metadata": {},
   "outputs": [],
   "source": [
    "import numpy as np\n",
    "import nyx_space as nyx\n",
    "\n",
    "GRAV_CONST = nyx.? # gravitational constant\n",
    "SPEED_OF_LIGHT = nyx.? # speed of light"
   ]
  },
  {
   "cell_type": "markdown",
   "metadata": {},
   "source": [
    "## The Schwartzschild solution\n",
    "\n",
    "Let's see how far we can get by crunching the numbers on the [Schwartzschild solution](https://en.wikipedia.org/wiki/Schwarzschild_solution) to the Einstein field equations as they appear on Wikipedia."
   ]
  },
  {
   "cell_type": "markdown",
   "metadata": {},
   "source": [
    "$$\n",
    "d{t_E}^2 = \\Big(1 + \\frac{2 U}{c^2} \\Big) d{t_c}^2 - \\Big(1 + \\frac{2 U}{c^2} \\Big)^{-1} v^2, \\quad U = \\frac{-GM_i}{r_i}, \\quad v^2 = \\frac{dx^2 + dy^2 + dz^2}{c^2}\n",
    "$$\n",
    "\n",
    "where:\n",
    "* $dt_E$ is a small increment of proper time $t_E$ (an interval that could be recorded on an atomic clock),\n",
    "* $dt_c$ is a small increment in the coordinate $t_c$ (coordinate time),\n",
    "* $dx$, $dy$, $dz$, are small increments in the three coordinates $x$, $y$, $z$ of the clock's position,\n",
    "* $\\frac{-GM_i}{r_i}$ represents the sum of the Newtonian gravitational potentials due to the masses in the neighborhood, based on their distances $r_i$ from the clock. This sum includes any tidal potentials."
   ]
  },
  {
   "cell_type": "markdown",
   "metadata": {},
   "source": [
    "Next we rearrange the formula to the form we want to plot: proper time over coordinate time with respect to orbital altitude at a given instant."
   ]
  },
  {
   "cell_type": "markdown",
   "metadata": {},
   "source": [
    "$$\n",
    "\\frac{dt_E}{dt_c} = \\sqrt{1 + \\frac{2U}{c^2} - \\frac{v^2}{c^2} + \\Big(\\frac{c^2}{2U} + 1 \\Big)^{-1} \\frac{{v_{||}^2}}{c^2}}\n",
    "$$\n",
    "\n",
    "where:\n",
    "* $v_{||}$ is the radial velocity,\n",
    "* $U = \\frac{-GM_i}{r_i}$ is the Newtownian potential,\n"
   ]
  },
  {
   "cell_type": "markdown",
   "metadata": {},
   "source": [
    "Now add some more sugar to the syntax here to shape the equation into something a little more manageable.\n",
    "\n",
    "let:\n",
    "* $v_e = \\sqrt{\\frac{2GM_i}{r_i}}$ be the escape speed; hence ${v_e}^2 = -2U$\n",
    "* $\\beta = v/c$, $\\beta_e = v_e/c$, and $\\beta_{||} = v_e/c$ be velocities as a percentage of the speed of light $c$,"
   ]
  },
  {
   "cell_type": "markdown",
   "metadata": {},
   "source": [
    "$$\n",
    "\\frac{dt_E}{dt_c} = \\sqrt{1 - \\Big( \\beta^2 + {\\beta_e}^2 + \\frac{ {\\beta_{||}}^2 {\\beta_e}^2 }{ 1 - {\\beta_e}^2 } \\Big) }\n",
    "$$"
   ]
  },
  {
   "cell_type": "markdown",
   "metadata": {},
   "source": [
    "## Assumptions & Simplifications\n",
    "We can make a few simplifications to the full equation in order to recreate the plot from Wikipedia.\n",
    "\n",
    "* All orbits under consideration are circular.\n",
    "* All orbits are computed at the same $x$ and $y$ coordinates.\n",
    "* Mean parameters are used for Earth's radius and mass.\n",
    "* The only significant Newtonian gravitational potentials are from Earth, Moon, and Sun."
   ]
  },
  {
   "cell_type": "code",
   "execution_count": null,
   "metadata": {},
   "outputs": [],
   "source": [
    "def newtonian_potential(mass, radius):\n",
    "    \"\"\"\n",
    "        U_i = -G M_i / r_i\n",
    "    \"\"\"\n",
    "    return -GRAV_CONST * mass / radius\n",
    "\n",
    "def escape_speed(total_potential):\n",
    "    \"\"\"\n",
    "        v_e = sqrt(-2 * U)\n",
    "    \"\"\"\n",
    "    return np.sqrt(-2 * total_potential)\n",
    "\n",
    "def percent_c(velocity):\n",
    "    \"\"\"\n",
    "        Beta = v / c\n",
    "    \"\"\"\n",
    "    return velocity / SPEED_OF_LIGHT"
   ]
  },
  {
   "cell_type": "code",
   "execution_count": null,
   "metadata": {},
   "outputs": [],
   "source": [
    "def time_dilation_circular_orbit(orbit_altitude):\n",
    "    pass"
   ]
  }
 ],
 "metadata": {
  "kernelspec": {
   "display_name": "Python 3",
   "language": "python",
   "name": "python3"
  },
  "language_info": {
   "codemirror_mode": {
    "name": "ipython",
    "version": 3
   },
   "file_extension": ".py",
   "mimetype": "text/x-python",
   "name": "python",
   "nbconvert_exporter": "python",
   "pygments_lexer": "ipython3",
   "version": "3.11.7"
  }
 },
 "nbformat": 4,
 "nbformat_minor": 2
}
