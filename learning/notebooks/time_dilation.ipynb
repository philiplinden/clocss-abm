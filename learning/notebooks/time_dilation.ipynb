{
 "cells": [
  {
   "cell_type": "markdown",
   "metadata": {},
   "source": [
    "# Time Dilation by Example\n",
    "Let's apply our knowledge of Special Relativity (SR) and General Relativity (GR) to predict the phenomenon of time dilation.\n",
    "\n",
    "Special Relativity, which describes spacetime far from a significant gravity field, explains how a stationary observer perceives time passing slower for a moving observer when the relative velocity between them is very large.\n",
    "\n",
    "General Relativity, which deals with gravity, explains how time slows down in proximity to a large gravitational acceleration.\n",
    "\n",
    "Let's see."
   ]
  },
  {
   "cell_type": "markdown",
   "metadata": {},
   "source": [
    "## Approach\n",
    "We'll use Python because it's quick and perfect for playing around like this.\n",
    "\n",
    "For universal constants and tracking high-precision quantities, I suggest using [Nyx](https://nyxspace.com/nyxspace/showcase/). It can do a lot more than we're using it for and it is good enough to plan a trajectory around the Moon, so it should be good enough for us.\n",
    "\n",
    "Nyx depends on another package, [Hifitime](https://nyxspace.com/hifitime/intro/), which is designed to keep time with nanosecond precision across a 65k year span for exactly this type of use case. Hifitime is available through Nyx the `time` module."
   ]
  },
  {
   "cell_type": "code",
   "execution_count": 1,
   "metadata": {},
   "outputs": [
    {
     "ename": "ModuleNotFoundError",
     "evalue": "No module named 'nyx_space'",
     "output_type": "error",
     "traceback": [
      "\u001b[1;31m---------------------------------------------------------------------------\u001b[0m",
      "\u001b[1;31mModuleNotFoundError\u001b[0m                       Traceback (most recent call last)",
      "Cell \u001b[1;32mIn[1], line 1\u001b[0m\n\u001b[1;32m----> 1\u001b[0m \u001b[38;5;28;01mfrom\u001b[39;00m \u001b[38;5;21;01mnyx_space\u001b[39;00m\u001b[38;5;21;01m.\u001b[39;00m\u001b[38;5;21;01mcosmic\u001b[39;00m \u001b[38;5;28;01mimport\u001b[39;00m Bodies\n\u001b[0;32m      2\u001b[0m gm()\n",
      "\u001b[1;31mModuleNotFoundError\u001b[0m: No module named 'nyx_space'"
     ]
    }
   ],
   "source": [
    "import nyx_space as nyx\n"
   ]
  }
 ],
 "metadata": {
  "kernelspec": {
   "display_name": "Python 3",
   "language": "python",
   "name": "python3"
  },
  "language_info": {
   "codemirror_mode": {
    "name": "ipython",
    "version": 3
   },
   "file_extension": ".py",
   "mimetype": "text/x-python",
   "name": "python",
   "nbconvert_exporter": "python",
   "pygments_lexer": "ipython3",
   "version": "3.12.1"
  }
 },
 "nbformat": 4,
 "nbformat_minor": 2
}
